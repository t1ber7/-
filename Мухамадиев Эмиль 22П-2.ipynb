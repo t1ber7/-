{
 "cells": [
  {
   "cell_type": "markdown",
   "id": "dfdca37a",
   "metadata": {},
   "source": [
    "1. Импортируйте пакет numpy под именем np"
   ]
  },
  {
   "cell_type": "code",
   "execution_count": 8,
   "id": "f7c20b85",
   "metadata": {},
   "outputs": [],
   "source": [
    "import numpy as np"
   ]
  },
  {
   "cell_type": "markdown",
   "id": "1b0c7f2d",
   "metadata": {},
   "source": [
    "2. Распечатайте версию numpy"
   ]
  },
  {
   "cell_type": "code",
   "execution_count": 9,
   "id": "895d41c5",
   "metadata": {},
   "outputs": [
    {
     "name": "stdout",
     "output_type": "stream",
     "text": [
      "1.26.4\n"
     ]
    }
   ],
   "source": [
    "print(np.__version__)"
   ]
  },
  {
   "cell_type": "markdown",
   "id": "711ff100",
   "metadata": {},
   "source": [
    "3. Создайте вектор со значениями от 10 до 49 "
   ]
  },
  {
   "cell_type": "code",
   "execution_count": 5,
   "id": "c37e2757",
   "metadata": {},
   "outputs": [
    {
     "name": "stdout",
     "output_type": "stream",
     "text": [
      "[10 11 12 13 14 15 16 17 18 19 20 21 22 23 24 25 26 27 28 29 30 31 32 33\n",
      " 34 35 36 37 38 39 40 41 42 43 44 45 46 47 48 49]\n"
     ]
    }
   ],
   "source": [
    "print(np.arange(10, 50))"
   ]
  },
  {
   "cell_type": "markdown",
   "id": "c66fd371",
   "metadata": {},
   "source": [
    "4. Перевернуть вектор (первый элемент становится последним)"
   ]
  },
  {
   "cell_type": "code",
   "execution_count": 7,
   "id": "0884ebbd",
   "metadata": {},
   "outputs": [
    {
     "name": "stdout",
     "output_type": "stream",
     "text": [
      "[49 48 47 46 45 44 43 42 41 40 39 38 37 36 35 34 33 32 31 30 29 28 27 26\n",
      " 25 24 23 22 21 20 19 18 17 16 15 14 13 12 11 10]\n"
     ]
    }
   ],
   "source": []
  },
  {
   "cell_type": "code",
   "execution_count": 15,
   "id": "e9b1d29d-097e-4528-9793-4c2743be2e00",
   "metadata": {},
   "outputs": [
    {
     "data": {
      "text/plain": [
       "array([10, 11, 12, 13, 14, 15, 16, 17, 18, 19, 20, 21, 22, 23, 24, 25, 26,\n",
       "       27, 28, 29, 30, 31, 32, 33, 34, 35, 36, 37, 38, 39, 40, 41, 42, 43,\n",
       "       44, 45, 46, 47, 48, 49])"
      ]
     },
     "execution_count": 15,
     "metadata": {},
     "output_type": "execute_result"
    }
   ],
   "source": [
    "arr = (np.arange(10, 50))\n",
    "arr"
   ]
  },
  {
   "cell_type": "code",
   "execution_count": 16,
   "id": "af199aa9-ceed-4b4c-a547-28d802c69791",
   "metadata": {},
   "outputs": [
    {
     "name": "stdout",
     "output_type": "stream",
     "text": [
      "[49 48 47 46 45 44 43 42 41 40 39 38 37 36 35 34 33 32 31 30 29 28 27 26\n",
      " 25 24 23 22 21 20 19 18 17 16 15 14 13 12 11 10]\n"
     ]
    }
   ],
   "source": [
    "print(arr[::-1])"
   ]
  },
  {
   "cell_type": "markdown",
   "id": "a3a4cb15",
   "metadata": {},
   "source": [
    "5. Создайте массив 5x5 со случайными значениями и найдите среднее значение и медиану для каждой строки"
   ]
  },
  {
   "cell_type": "code",
   "execution_count": 27,
   "id": "60256c25",
   "metadata": {},
   "outputs": [
    {
     "name": "stdout",
     "output_type": "stream",
     "text": [
      "[[0.5354342  0.22064297 0.52672615 0.18962422 0.10780638]\n",
      " [0.56941592 0.19223182 0.43940486 0.33221195 0.84903373]\n",
      " [0.69514164 0.19410367 0.02530416 0.6925614  0.88133751]\n",
      " [0.84040575 0.61729961 0.11399288 0.51648402 0.97277065]\n",
      " [0.37692264 0.59039302 0.04489023 0.84697959 0.35232634]]\n"
     ]
    }
   ],
   "source": [
    "A = np.random.random((5,5))\n",
    "print(A)"
   ]
  },
  {
   "cell_type": "code",
   "execution_count": null,
   "id": "77866f8b",
   "metadata": {},
   "outputs": [],
   "source": []
  },
  {
   "cell_type": "code",
   "execution_count": 20,
   "id": "d4e933ce",
   "metadata": {},
   "outputs": [
    {
     "data": {
      "text/plain": [
       "array([0.77621004, 0.63715337, 0.49428744, 0.81732248, 0.43085952])"
      ]
     },
     "execution_count": 20,
     "metadata": {},
     "output_type": "execute_result"
    }
   ],
   "source": []
  },
  {
   "cell_type": "code",
   "execution_count": 31,
   "id": "b48cab26-5aa7-4b35-84e4-709fec6fa9f8",
   "metadata": {},
   "outputs": [
    {
     "data": {
      "text/plain": [
       "0.4689378123104941"
      ]
     },
     "execution_count": 31,
     "metadata": {},
     "output_type": "execute_result"
    }
   ],
   "source": [
    "np.average(A)"
   ]
  },
  {
   "cell_type": "code",
   "execution_count": 32,
   "id": "c2e6215c-144f-4e72-8f27-186138f81435",
   "metadata": {},
   "outputs": [
    {
     "data": {
      "text/plain": [
       "0.5164840228710524"
      ]
     },
     "execution_count": 32,
     "metadata": {},
     "output_type": "execute_result"
    }
   ],
   "source": [
    "np.median(A)"
   ]
  },
  {
   "cell_type": "markdown",
   "id": "ee02ae2c",
   "metadata": {},
   "source": [
    "6. Преобразуйте одномерный массив из 27 элементов целого типа в трехмерный (3x3x3)"
   ]
  },
  {
   "cell_type": "code",
   "execution_count": 34,
   "id": "c3271c9f",
   "metadata": {},
   "outputs": [],
   "source": [
    "a = np.array([x for x in range(27)])"
   ]
  },
  {
   "cell_type": "code",
   "execution_count": 30,
   "id": "d3151c71",
   "metadata": {},
   "outputs": [
    {
     "name": "stdout",
     "output_type": "stream",
     "text": [
      "[[[ 0  1  2]\n",
      "  [ 3  4  5]\n",
      "  [ 6  7  8]]\n",
      "\n",
      " [[ 9 10 11]\n",
      "  [12 13 14]\n",
      "  [15 16 17]]\n",
      "\n",
      " [[18 19 20]\n",
      "  [21 22 23]\n",
      "  [24 25 26]]]\n"
     ]
    }
   ],
   "source": []
  },
  {
   "cell_type": "code",
   "execution_count": 36,
   "id": "8e4f3075-dc6a-4976-9da5-8ca284b4c5bf",
   "metadata": {},
   "outputs": [
    {
     "name": "stdout",
     "output_type": "stream",
     "text": [
      "[[[ 0  1  2]\n",
      "  [ 3  4  5]\n",
      "  [ 6  7  8]]\n",
      "\n",
      " [[ 9 10 11]\n",
      "  [12 13 14]\n",
      "  [15 16 17]]\n",
      "\n",
      " [[18 19 20]\n",
      "  [21 22 23]\n",
      "  [24 25 26]]]\n"
     ]
    }
   ],
   "source": [
    "print(a.reshape(3,3,3))"
   ]
  },
  {
   "cell_type": "markdown",
   "id": "e3bad8e7",
   "metadata": {},
   "source": [
    "7. Преобразуйте все элементы массива numpy из типа данных float в integer"
   ]
  },
  {
   "cell_type": "code",
   "execution_count": 37,
   "id": "29e474ac",
   "metadata": {},
   "outputs": [],
   "source": [
    "a = np.array([[3.5, 1.9, 8.45], , [4.7, 7.9, 1.9]])"
   ]
  },
  {
   "cell_type": "code",
   "execution_count": 41,
   "id": "be7c498a",
   "metadata": {},
   "outputs": [
    {
     "name": "stdout",
     "output_type": "stream",
     "text": [
      "[[3 1 8]\n",
      " [4 7 1]]\n"
     ]
    }
   ],
   "source": []
  },
  {
   "cell_type": "code",
   "execution_count": 45,
   "id": "54beaa9e-cee6-45f4-baa0-0bfca6fd3e60",
   "metadata": {},
   "outputs": [
    {
     "data": {
      "text/plain": [
       "array([[3, 1, 8],\n",
       "       [4, 7, 1]])"
      ]
     },
     "execution_count": 45,
     "metadata": {},
     "output_type": "execute_result"
    }
   ],
   "source": [
    "a.astype(int)"
   ]
  },
  {
   "cell_type": "markdown",
   "id": "b8b96818",
   "metadata": {},
   "source": [
    "8. Преобразуйте двоичный массив numpy [[1, 0, 0], [1, 1, 1],  [0, 0, 1]] (содержащий только 0 и 1) в логический массив numpy"
   ]
  },
  {
   "cell_type": "code",
   "execution_count": 46,
   "id": "1ba9b37c",
   "metadata": {},
   "outputs": [],
   "source": [
    "a = np.array([[1, 0, 0], [1, 1, 1],  [0, 0, 1]])"
   ]
  },
  {
   "cell_type": "code",
   "execution_count": 47,
   "id": "fc0f410e",
   "metadata": {},
   "outputs": [
    {
     "data": {
      "text/plain": [
       "array([[ True, False, False],\n",
       "       [ True,  True,  True],\n",
       "       [False, False,  True]])"
      ]
     },
     "execution_count": 47,
     "metadata": {},
     "output_type": "execute_result"
    }
   ],
   "source": [
    "a.astype(bool)"
   ]
  },
  {
   "cell_type": "markdown",
   "id": "2e29bca1",
   "metadata": {},
   "source": [
    "9. Расположите 2 массива numpy горизонтально (hstack), т.е. 2 массива, имеющих одинаковое 1-е измерение (количество строк в 2D-массивах)"
   ]
  },
  {
   "cell_type": "code",
   "execution_count": 71,
   "id": "85022b72",
   "metadata": {},
   "outputs": [],
   "source": [
    "a1 = np.array([[1,2,3], [4,5,6]])\n",
    "a2 = np.array([[7,8,9], [10,11,12]])"
   ]
  },
  {
   "cell_type": "code",
   "execution_count": 39,
   "id": "59e0e588",
   "metadata": {},
   "outputs": [
    {
     "name": "stdout",
     "output_type": "stream",
     "text": [
      "[[ 1  2  3  7  8  9]\n",
      " [ 4  5  6 10 11 12]]\n"
     ]
    }
   ],
   "source": []
  },
  {
   "cell_type": "code",
   "execution_count": 73,
   "id": "13dadda0-2a32-4a2c-86ee-8031182d22fa",
   "metadata": {},
   "outputs": [],
   "source": [
    "new_arr = (a1, a2)"
   ]
  },
  {
   "cell_type": "code",
   "execution_count": 77,
   "id": "ddf1da9e-35ec-4d3f-a15c-1058ddb091c9",
   "metadata": {},
   "outputs": [
    {
     "name": "stdout",
     "output_type": "stream",
     "text": [
      "[[ 1  2  3  7  8  9]\n",
      " [ 4  5  6 10 11 12]]\n"
     ]
    }
   ],
   "source": [
    "print(np.hstack(new_arr))"
   ]
  },
  {
   "cell_type": "markdown",
   "id": "94718a01",
   "metadata": {},
   "source": [
    "10. Расположите 2 массива numpy вертикально (vstack), т.е. 2 массива, имеющие одинаковое последнее измерение (количество столбцов в 2D-массивах)"
   ]
  },
  {
   "cell_type": "code",
   "execution_count": 80,
   "id": "da19bfd1",
   "metadata": {},
   "outputs": [],
   "source": [
    "a1 = np.array([[1,2],\n",
    " [3,4],\n",
    " [5,6]])\n",
    "\n",
    "a2 = np.array([[7,8],\n",
    " [9,10],\n",
    " [10,11]])"
   ]
  },
  {
   "cell_type": "code",
   "execution_count": 43,
   "id": "a7215a42",
   "metadata": {},
   "outputs": [
    {
     "name": "stdout",
     "output_type": "stream",
     "text": [
      "[[ 1  2]\n",
      " [ 3  4]\n",
      " [ 5  6]\n",
      " [ 7  8]\n",
      " [ 9 10]\n",
      " [10 11]]\n"
     ]
    }
   ],
   "source": []
  },
  {
   "cell_type": "code",
   "execution_count": 81,
   "id": "bbe3b224-325f-47f7-b9f9-ff587442ed64",
   "metadata": {},
   "outputs": [],
   "source": [
    "new_arr = (a1, a2)"
   ]
  },
  {
   "cell_type": "code",
   "execution_count": 82,
   "id": "27dfa4bf-f587-4af8-98e7-899b06265425",
   "metadata": {},
   "outputs": [
    {
     "data": {
      "text/plain": [
       "array([[ 1,  2],\n",
       "       [ 3,  4],\n",
       "       [ 5,  6],\n",
       "       [ 7,  8],\n",
       "       [ 9, 10],\n",
       "       [10, 11]])"
      ]
     },
     "execution_count": 82,
     "metadata": {},
     "output_type": "execute_result"
    }
   ],
   "source": [
    "np.vstack(new_arr)"
   ]
  },
  {
   "cell_type": "markdown",
   "id": "2da0ed17",
   "metadata": {},
   "source": [
    "11. Из 2 массивов numpy извлеките индексы, в которых совпадают элементы (np.where)"
   ]
  },
  {
   "cell_type": "code",
   "execution_count": 5,
   "id": "9067ab95",
   "metadata": {},
   "outputs": [],
   "source": [
    "a = np.array([1,2,3,4,5])\n",
    "b = np.array([1,3,2,4,5])"
   ]
  },
  {
   "cell_type": "code",
   "execution_count": 45,
   "id": "db588189",
   "metadata": {},
   "outputs": [
    {
     "name": "stdout",
     "output_type": "stream",
     "text": [
      "(array([0, 3, 4], dtype=int64),)\n"
     ]
    }
   ],
   "source": []
  },
  {
   "cell_type": "code",
   "execution_count": 87,
   "id": "d65ff9de-b32d-4906-af36-0d024fa70c37",
   "metadata": {},
   "outputs": [],
   "source": [
    "checker = (a, b)"
   ]
  },
  {
   "cell_type": "code",
   "execution_count": 88,
   "id": "d0f722cf-9411-4c5e-b70e-3c9c64d802f2",
   "metadata": {},
   "outputs": [
    {
     "data": {
      "text/plain": [
       "(array([0, 0, 0, 0, 0, 1, 1, 1, 1, 1], dtype=int64),\n",
       " array([0, 1, 2, 3, 4, 0, 1, 2, 3, 4], dtype=int64))"
      ]
     },
     "execution_count": 88,
     "metadata": {},
     "output_type": "execute_result"
    }
   ],
   "source": [
    "np.where(checker)"
   ]
  },
  {
   "cell_type": "code",
   "execution_count": 7,
   "id": "16e45ccd-f8f3-4e92-a0c6-67d993a53580",
   "metadata": {},
   "outputs": [
    {
     "data": {
      "text/plain": [
       "(array([0, 3, 4], dtype=int64),)"
      ]
     },
     "execution_count": 7,
     "metadata": {},
     "output_type": "execute_result"
    }
   ],
   "source": [
    "c = np.where(a == b)\n",
    "c"
   ]
  },
  {
   "cell_type": "markdown",
   "id": "fe3b0a62",
   "metadata": {},
   "source": [
    "12. Выведите результат умножения 2 матриц (в виде массива numpy)"
   ]
  },
  {
   "cell_type": "code",
   "execution_count": 89,
   "id": "2f7ec1fc",
   "metadata": {},
   "outputs": [],
   "source": [
    "a = np.array([[1,2,3], \n",
    " [4,5,6], \n",
    " [7,8,9]])\n",
    "\n",
    "b = np.array([[2,3,4], \n",
    " [5,6,7], \n",
    " [8,9,10]])"
   ]
  },
  {
   "cell_type": "code",
   "execution_count": 55,
   "id": "70a81615",
   "metadata": {},
   "outputs": [
    {
     "name": "stdout",
     "output_type": "stream",
     "text": [
      "[[ 36  42  48]\n",
      " [ 81  96 111]\n",
      " [126 150 174]]\n"
     ]
    }
   ],
   "source": []
  },
  {
   "cell_type": "code",
   "execution_count": 57,
   "id": "c810cd60",
   "metadata": {},
   "outputs": [
    {
     "name": "stdout",
     "output_type": "stream",
     "text": [
      "[[ 36  42  48]\n",
      " [ 81  96 111]\n",
      " [126 150 174]]\n"
     ]
    }
   ],
   "source": []
  },
  {
   "cell_type": "code",
   "execution_count": 91,
   "id": "2bec24ed-0391-4045-ab65-1ba3fff918b7",
   "metadata": {},
   "outputs": [
    {
     "name": "stdout",
     "output_type": "stream",
     "text": [
      "[[ 36  42  48]\n",
      " [ 81  96 111]\n",
      " [126 150 174]]\n"
     ]
    }
   ],
   "source": [
    "print(np.dot(a, b))"
   ]
  },
  {
   "cell_type": "markdown",
   "id": "ea2f28fe",
   "metadata": {},
   "source": [
    "13. Выведите транспонированную матрицу"
   ]
  },
  {
   "cell_type": "code",
   "execution_count": 92,
   "id": "998be8ca",
   "metadata": {},
   "outputs": [],
   "source": [
    "a = np.array([[1,2,3], \n",
    " [4,5,6], \n",
    " [7,8,9]])"
   ]
  },
  {
   "cell_type": "code",
   "execution_count": 60,
   "id": "b655308c",
   "metadata": {},
   "outputs": [
    {
     "name": "stdout",
     "output_type": "stream",
     "text": [
      "[[1 4 7]\n",
      " [2 5 8]\n",
      " [3 6 9]]\n"
     ]
    }
   ],
   "source": []
  },
  {
   "cell_type": "code",
   "execution_count": 64,
   "id": "9c61ecb3",
   "metadata": {},
   "outputs": [
    {
     "data": {
      "text/plain": [
       "array([[1, 4, 7],\n",
       "       [2, 5, 8],\n",
       "       [3, 6, 9]])"
      ]
     },
     "execution_count": 64,
     "metadata": {},
     "output_type": "execute_result"
    }
   ],
   "source": []
  },
  {
   "cell_type": "code",
   "execution_count": null,
   "id": "105209e2-12b2-4089-8726-5e91840ebfac",
   "metadata": {},
   "outputs": [],
   "source": []
  },
  {
   "cell_type": "markdown",
   "id": "626917af",
   "metadata": {},
   "source": [
    "14. Вычислите синус массива углов (в радианах) с помощью NumPy"
   ]
  },
  {
   "cell_type": "code",
   "execution_count": 93,
   "id": "23865e63",
   "metadata": {},
   "outputs": [],
   "source": [
    "angles = np.array([3.14, 3.14/2, 6.28])"
   ]
  },
  {
   "cell_type": "code",
   "execution_count": 67,
   "id": "be13fc0e",
   "metadata": {},
   "outputs": [
    {
     "name": "stdout",
     "output_type": "stream",
     "text": [
      "[ 0.00159265  0.99999968 -0.0031853 ]\n"
     ]
    }
   ],
   "source": []
  },
  {
   "cell_type": "code",
   "execution_count": 95,
   "id": "8586df7e-dae6-431b-9871-03e6386aa10d",
   "metadata": {},
   "outputs": [
    {
     "name": "stdout",
     "output_type": "stream",
     "text": [
      "[ 0.00159265  0.99999968 -0.0031853 ]\n"
     ]
    }
   ],
   "source": [
    "print(np.sin(angles))"
   ]
  },
  {
   "cell_type": "markdown",
   "id": "04302674",
   "metadata": {},
   "source": [
    "15. Отсортировать вектор"
   ]
  },
  {
   "cell_type": "code",
   "execution_count": 96,
   "id": "7cd71a15",
   "metadata": {},
   "outputs": [
    {
     "name": "stdout",
     "output_type": "stream",
     "text": [
      "[0.47233563 0.44837828 0.30333186 0.16080574 0.63762542 0.05685227\n",
      " 0.21588359 0.60754782 0.87851406 0.12701966]\n"
     ]
    }
   ],
   "source": [
    "v = np.random.random(size=[10])\n",
    "print(v)"
   ]
  },
  {
   "cell_type": "code",
   "execution_count": 69,
   "id": "46dc5330",
   "metadata": {},
   "outputs": [
    {
     "name": "stdout",
     "output_type": "stream",
     "text": [
      "[0.13178341 0.14962622 0.26204075 0.30821184 0.34446024 0.45199466\n",
      " 0.51581108 0.79408365 0.87313982 0.88810901]\n"
     ]
    }
   ],
   "source": []
  },
  {
   "cell_type": "code",
   "execution_count": 97,
   "id": "f7e97c66-6f0c-454f-8ffe-794b270d2f48",
   "metadata": {},
   "outputs": [
    {
     "name": "stdout",
     "output_type": "stream",
     "text": [
      "[0.05685227 0.12701966 0.16080574 0.21588359 0.30333186 0.44837828\n",
      " 0.47233563 0.60754782 0.63762542 0.87851406]\n"
     ]
    }
   ],
   "source": [
    "print(np.sort(v))"
   ]
  },
  {
   "cell_type": "markdown",
   "id": "dbbf1bf9",
   "metadata": {},
   "source": [
    "16. Проверить, одинаковы ли два NumPy массива"
   ]
  },
  {
   "cell_type": "code",
   "execution_count": 109,
   "id": "b65dd305",
   "metadata": {},
   "outputs": [],
   "source": [
    "a = np.array([1,2,3,4,5])\n",
    "b = np.array([1,2,3,4,5])"
   ]
  },
  {
   "cell_type": "code",
   "execution_count": 72,
   "id": "6e01dca9",
   "metadata": {},
   "outputs": [
    {
     "name": "stdout",
     "output_type": "stream",
     "text": [
      "True\n"
     ]
    }
   ],
   "source": []
  },
  {
   "cell_type": "code",
   "execution_count": 99,
   "id": "e08b29fd-dc6d-44e0-9ede-6158fc3ceab3",
   "metadata": {},
   "outputs": [
    {
     "name": "stdout",
     "output_type": "stream",
     "text": [
      "[ True  True  True  True  True]\n"
     ]
    }
   ],
   "source": [
    "print(a == b)"
   ]
  },
  {
   "cell_type": "code",
   "execution_count": 102,
   "id": "9adeae03-d5e3-4dbd-82dd-8d548de251d6",
   "metadata": {},
   "outputs": [
    {
     "name": "stdout",
     "output_type": "stream",
     "text": [
      "[ True  True  True  True  True]\n"
     ]
    }
   ],
   "source": [
    "print(np.equal(a, b))"
   ]
  },
  {
   "cell_type": "code",
   "execution_count": 110,
   "id": "07cbc315-5a1c-43a7-9de9-710404a1a0d0",
   "metadata": {},
   "outputs": [
    {
     "data": {
      "text/plain": [
       "True"
      ]
     },
     "execution_count": 110,
     "metadata": {},
     "output_type": "execute_result"
    }
   ],
   "source": [
    "np.all(a == b)"
   ]
  },
  {
   "cell_type": "markdown",
   "id": "9255bcd2",
   "metadata": {},
   "source": [
    "17. В одномерном массиве заменить максимальный элемент на ноль"
   ]
  },
  {
   "cell_type": "code",
   "execution_count": 111,
   "id": "ba7973d3",
   "metadata": {},
   "outputs": [],
   "source": [
    "Z = np.random.random(10)"
   ]
  },
  {
   "cell_type": "code",
   "execution_count": 112,
   "id": "1a912d24",
   "metadata": {},
   "outputs": [
    {
     "data": {
      "text/plain": [
       "array([0.32955365, 0.64361336, 0.53490249, 0.76139433, 0.60446288,\n",
       "       0.41358759, 0.14858156, 0.5763634 , 0.92767219, 0.59623446])"
      ]
     },
     "execution_count": 112,
     "metadata": {},
     "output_type": "execute_result"
    }
   ],
   "source": [
    "Z"
   ]
  },
  {
   "cell_type": "code",
   "execution_count": 75,
   "id": "ec321b6c",
   "metadata": {},
   "outputs": [
    {
     "name": "stdout",
     "output_type": "stream",
     "text": [
      "[0.16782157 0.13655578 0.59454878 0.02957322 0.         0.71645444\n",
      " 0.48757387 0.05812814 0.21499663 0.24011352]\n"
     ]
    }
   ],
   "source": []
  },
  {
   "cell_type": "code",
   "execution_count": 115,
   "id": "b3ecfcf7-bbe9-45a3-bbdf-64e94be40156",
   "metadata": {},
   "outputs": [],
   "source": [
    "maxind = np.argmax(Z)"
   ]
  },
  {
   "cell_type": "code",
   "execution_count": 116,
   "id": "e5841ed6-5a0d-4df5-9689-4771fc1b2a7e",
   "metadata": {},
   "outputs": [],
   "source": [
    "Z[maxind] = 0"
   ]
  },
  {
   "cell_type": "code",
   "execution_count": 117,
   "id": "847e6dfa-5205-4fd5-af9b-f06b362e1de0",
   "metadata": {},
   "outputs": [
    {
     "data": {
      "text/plain": [
       "array([0.32955365, 0.64361336, 0.53490249, 0.76139433, 0.60446288,\n",
       "       0.41358759, 0.14858156, 0.5763634 , 0.        , 0.59623446])"
      ]
     },
     "execution_count": 117,
     "metadata": {},
     "output_type": "execute_result"
    }
   ],
   "source": [
    "Z"
   ]
  },
  {
   "cell_type": "markdown",
   "id": "8d5f7cb8",
   "metadata": {},
   "source": [
    "18. Замените все нечетные числа одномерного массива на -1."
   ]
  },
  {
   "cell_type": "code",
   "execution_count": 177,
   "id": "d299d6b2",
   "metadata": {},
   "outputs": [],
   "source": [
    "arr = np.array([0, 1, 2, 3, 4, 5, 6, 7, 8, 9])"
   ]
  },
  {
   "cell_type": "code",
   "execution_count": 178,
   "id": "fec84b28",
   "metadata": {},
   "outputs": [
    {
     "data": {
      "text/plain": [
       "array([0, 1, 2, 3, 4, 5, 6, 7, 8, 9])"
      ]
     },
     "execution_count": 178,
     "metadata": {},
     "output_type": "execute_result"
    }
   ],
   "source": [
    "arr"
   ]
  },
  {
   "cell_type": "code",
   "execution_count": 179,
   "id": "3bc4aa95-a7c4-4a1a-84dd-04a170bd0954",
   "metadata": {},
   "outputs": [],
   "source": [
    "arr[arr % 2 != 0] = -1"
   ]
  },
  {
   "cell_type": "code",
   "execution_count": 180,
   "id": "b04f4736-af4f-43b7-9b8e-4d1abe3b7c4f",
   "metadata": {},
   "outputs": [
    {
     "data": {
      "text/plain": [
       "array([ 0, -1,  2, -1,  4, -1,  6, -1,  8, -1])"
      ]
     },
     "execution_count": 180,
     "metadata": {},
     "output_type": "execute_result"
    }
   ],
   "source": [
    "arr"
   ]
  },
  {
   "cell_type": "markdown",
   "id": "adb25062",
   "metadata": {},
   "source": [
    "19. Замените все элементы в массиве NumPy больше 30 или меньше 5 новым значением 10 "
   ]
  },
  {
   "cell_type": "code",
   "execution_count": 158,
   "id": "4738135c",
   "metadata": {},
   "outputs": [],
   "source": [
    "arr = np.array([0, 1, 20, 3, 4, 5, 6, -7, 8, 90])"
   ]
  },
  {
   "cell_type": "code",
   "execution_count": 159,
   "id": "731d3538",
   "metadata": {},
   "outputs": [
    {
     "data": {
      "text/plain": [
       "array([ 0,  1, 20,  3,  4,  5,  6, -7,  8, 90])"
      ]
     },
     "execution_count": 159,
     "metadata": {},
     "output_type": "execute_result"
    }
   ],
   "source": [
    "arr"
   ]
  },
  {
   "cell_type": "code",
   "execution_count": 160,
   "id": "c0aac4eb-6ce6-4819-9b83-61c0bccb411d",
   "metadata": {},
   "outputs": [],
   "source": [
    "arr[arr > 30] = 10"
   ]
  },
  {
   "cell_type": "code",
   "execution_count": 161,
   "id": "86cdb3a9-661f-435e-be68-d51fc2df89f5",
   "metadata": {},
   "outputs": [],
   "source": [
    "arr[arr < 5] = 10"
   ]
  },
  {
   "cell_type": "code",
   "execution_count": 162,
   "id": "302f6893-af3f-4a93-b41a-466de14064f5",
   "metadata": {},
   "outputs": [
    {
     "data": {
      "text/plain": [
       "array([10, 10, 20, 10, 10,  5,  6, 10,  8, 10])"
      ]
     },
     "execution_count": 162,
     "metadata": {},
     "output_type": "execute_result"
    }
   ],
   "source": [
    "arr"
   ]
  },
  {
   "cell_type": "markdown",
   "id": "aacdf990",
   "metadata": {},
   "source": [
    "20. Отсортируйте двумерный массив по столбцам"
   ]
  },
  {
   "cell_type": "code",
   "execution_count": 165,
   "id": "cc0f95e5",
   "metadata": {},
   "outputs": [],
   "source": [
    "a = np.array([[11,5,3], \n",
    " [4,15,6], \n",
    " [7,8,19]])"
   ]
  },
  {
   "cell_type": "code",
   "execution_count": 182,
   "id": "eb55870e",
   "metadata": {},
   "outputs": [
    {
     "name": "stdout",
     "output_type": "stream",
     "text": [
      "[[11  5  3]\n",
      " [ 4 15  6]\n",
      " [ 7  8 19]]\n"
     ]
    }
   ],
   "source": [
    "print(a)"
   ]
  },
  {
   "cell_type": "code",
   "execution_count": 181,
   "id": "65688ffb",
   "metadata": {},
   "outputs": [
    {
     "name": "stdout",
     "output_type": "stream",
     "text": [
      "[[ 3  5 11]\n",
      " [ 4  6 15]\n",
      " [ 7  8 19]]\n"
     ]
    }
   ],
   "source": [
    "print(np.sort(a))"
   ]
  }
 ],
 "metadata": {
  "kernelspec": {
   "display_name": "Python 3 (ipykernel)",
   "language": "python",
   "name": "python3"
  },
  "language_info": {
   "codemirror_mode": {
    "name": "ipython",
    "version": 3
   },
   "file_extension": ".py",
   "mimetype": "text/x-python",
   "name": "python",
   "nbconvert_exporter": "python",
   "pygments_lexer": "ipython3",
   "version": "3.12.4"
  }
 },
 "nbformat": 4,
 "nbformat_minor": 5
}
