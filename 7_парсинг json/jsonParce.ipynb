{
 "cells": [
  {
   "cell_type": "markdown",
   "id": "edf9ba3f",
   "metadata": {},
   "source": [
    "# Парсинг данных с JSON файла"
   ]
  },
  {
   "cell_type": "code",
   "execution_count": 2,
   "id": "a0a59f6c",
   "metadata": {},
   "outputs": [],
   "source": [
    "import json\n",
    "import glob\n",
    "import pandas as pd\n",
    "from datetime import datetime\n",
    "from IPython.display import display"
   ]
  },
  {
   "cell_type": "markdown",
   "id": "c459c8b5",
   "metadata": {},
   "source": [
    "## Парсинг"
   ]
  },
  {
   "cell_type": "code",
   "execution_count": 4,
   "id": "9f02ec30",
   "metadata": {},
   "outputs": [],
   "source": [
    "all_jsons = glob.glob(r\"C:\\Users\\User\\Desktop\\Data\\*.json\")\n",
    "Sum_obj = []\n",
    "\n",
    "for file_path in all_jsons:\n",
    "    try:\n",
    "        with open(file_path, 'r', encoding='utf-8') as f:\n",
    "            data = json.load(f)\n",
    "            data['file_source'] = file_path\n",
    "            Sum_obj.append(data)\n",
    "    except Exception as e:\n",
    "        print(f\"Ошибка при загрузке файла {file_path}: {str(e)}\")    "
   ]
  },
  {
   "cell_type": "markdown",
   "id": "0bf7d4e4-6b5d-4f48-a556-e5413e8322f0",
   "metadata": {},
   "source": [
    "## Посмотрим количество файлов"
   ]
  },
  {
   "cell_type": "code",
   "execution_count": 6,
   "id": "09fd0ab7-bb52-4e99-aab5-5c56d8ea3745",
   "metadata": {},
   "outputs": [
    {
     "data": {
      "text/plain": [
       "14"
      ]
     },
     "execution_count": 6,
     "metadata": {},
     "output_type": "execute_result"
    }
   ],
   "source": [
    "len(Sum_obj)"
   ]
  },
  {
   "cell_type": "markdown",
   "id": "47226025",
   "metadata": {},
   "source": [
    "## Извлечение данных из файлов"
   ]
  },
  {
   "cell_type": "code",
   "execution_count": 8,
   "id": "1325e947",
   "metadata": {
    "scrolled": true
   },
   "outputs": [],
   "source": [
    "def parse_custom_date(day, month, time):\n",
    "    month_map = {\n",
    "        'января': '01', 'февраля': '02', 'марта': '03', 'апреля': '04',\n",
    "        'мая': '05', 'июня': '06', 'июля': '07', 'августа': '08',\n",
    "        'сентября': '09', 'октября': '10', 'ноября': '11', 'декабря': '12'\n",
    "    }\n",
    "    current_year = datetime.now().year\n",
    "    month_num = int(month_map.get(month, '01'))\n",
    "    year = current_year if month_num <= datetime.now().month else current_year - 1\n",
    "    \n",
    "    try:\n",
    "        date_str = f\"{day} {month_map.get(month, '01')} {year} {time}\"\n",
    "        return datetime.strptime(date_str, \"%d %m %Y %H:%M\")\n",
    "    except (ValueError, KeyError):\n",
    "        return None\n",
    "\n",
    "\n",
    "def process_data(data_list):\n",
    "    articles = []\n",
    "    content_type_mapping = {\n",
    "        'хакатон': 'хакатон',\n",
    "        'премия': 'награждение',\n",
    "        'исследование': 'исследование'\n",
    "    }\n",
    "    keywords_list = ['киберспорт', 'хакатон', 'премия', \n",
    "                    'искусственный интеллект', 'разработка', 'технологии']\n",
    "    \n",
    "    for data in data_list:\n",
    "        refs = data.get('refs', []) or []\n",
    "        \n",
    "        for ref in refs:\n",
    "            if not isinstance(ref, list) or len(ref) < 3:\n",
    "                continue\n",
    "                \n",
    "            text = ref[0] if ref[0] else \"\"\n",
    "            date_info = ref[1] if isinstance(ref[1], dict) else {'day': '1', 'month': 'января', 'time': '00:00'}\n",
    "            stats = ref[2] if isinstance(ref[2], dict) else {'rate': 0, 'views': 0}\n",
    "            \n",
    "            text_lower = text.lower()\n",
    "            keywords = [word for word in keywords_list if word in text_lower]\n",
    "            \n",
    "            content_type = 'новость'\n",
    "            for key, value in content_type_mapping.items():\n",
    "                if key in text_lower:\n",
    "                    content_type = value\n",
    "                    break\n",
    "                    \n",
    "            shortened_text = text[:200] + '...' if len(text) > 200 else text\n",
    "            \n",
    "            articles.append({\n",
    "                'text': shortened_text,\n",
    "                'full_text': text,\n",
    "                'date': parse_custom_date(\n",
    "                    date_info.get('day', '1'),\n",
    "                    date_info.get('month', 'января'),\n",
    "                    date_info.get('time', '00:00')\n",
    "                ),\n",
    "                'rating': stats.get('rate', 0),\n",
    "                'views': stats.get('views', 0),\n",
    "                'keywords': ', '.join(keywords) if keywords else 'нет',\n",
    "                'content_type': content_type,\n",
    "                'source_file': data.get('file_source', 'Неизвестно')\n",
    "            })\n",
    "    \n",
    "    return pd.DataFrame(articles)"
   ]
  },
  {
   "cell_type": "markdown",
   "id": "d51add9c",
   "metadata": {},
   "source": [
    "## Создание датасета\n"
   ]
  },
  {
   "cell_type": "code",
   "execution_count": 10,
   "id": "f62048dd",
   "metadata": {
    "scrolled": true
   },
   "outputs": [],
   "source": [
    "articles_df = process_data(Sum_obj)"
   ]
  },
  {
   "cell_type": "code",
   "execution_count": 34,
   "id": "0a0995fa-19de-4ed7-a02e-ed00f928aeb2",
   "metadata": {},
   "outputs": [
    {
     "data": {
      "text/html": [
       "<div>\n",
       "<style scoped>\n",
       "    .dataframe tbody tr th:only-of-type {\n",
       "        vertical-align: middle;\n",
       "    }\n",
       "\n",
       "    .dataframe tbody tr th {\n",
       "        vertical-align: top;\n",
       "    }\n",
       "\n",
       "    .dataframe thead th {\n",
       "        text-align: right;\n",
       "    }\n",
       "</style>\n",
       "<table border=\"1\" class=\"dataframe\">\n",
       "  <thead>\n",
       "    <tr style=\"text-align: right;\">\n",
       "      <th></th>\n",
       "      <th>text</th>\n",
       "      <th>full_text</th>\n",
       "      <th>date</th>\n",
       "      <th>rating</th>\n",
       "      <th>views</th>\n",
       "      <th>keywords</th>\n",
       "      <th>content_type</th>\n",
       "      <th>source_file</th>\n",
       "    </tr>\n",
       "  </thead>\n",
       "  <tbody>\n",
       "    <tr>\n",
       "      <th>0</th>\n",
       "      <td>7 декабря состоялась церемония награждения лау...</td>\n",
       "      <td>7 декабря состоялась церемония награждения лау...</td>\n",
       "      <td>2024-12-08 09:30:00</td>\n",
       "      <td>6</td>\n",
       "      <td>2300</td>\n",
       "      <td>киберспорт, премия, технологии</td>\n",
       "      <td>награждение</td>\n",
       "      <td>C:\\Users\\User\\Desktop\\Data\\Cybersport.Metarati...</td>\n",
       "    </tr>\n",
       "    <tr>\n",
       "      <th>1</th>\n",
       "      <td>7 декабря состоялась церемония награждения лау...</td>\n",
       "      <td>7 декабря состоялась церемония награждения лау...</td>\n",
       "      <td>2024-12-08 09:30:00</td>\n",
       "      <td>6</td>\n",
       "      <td>2300</td>\n",
       "      <td>киберспорт, премия, технологии</td>\n",
       "      <td>награждение</td>\n",
       "      <td>C:\\Users\\User\\Desktop\\Data\\ESforce Holding.json</td>\n",
       "    </tr>\n",
       "    <tr>\n",
       "      <th>2</th>\n",
       "      <td>Из совместного исследования издателя компьютер...</td>\n",
       "      <td>Из совместного исследования издателя компьютер...</td>\n",
       "      <td>2024-07-29 13:50:00</td>\n",
       "      <td>12</td>\n",
       "      <td>2800</td>\n",
       "      <td>киберспорт</td>\n",
       "      <td>исследование</td>\n",
       "      <td>C:\\Users\\User\\Desktop\\Data\\ESforce Holding.json</td>\n",
       "    </tr>\n",
       "    <tr>\n",
       "      <th>3</th>\n",
       "      <td>По статистике The Esports Observer за I полови...</td>\n",
       "      <td>По статистике The Esports Observer за I полови...</td>\n",
       "      <td>2024-07-09 09:33:00</td>\n",
       "      <td>18</td>\n",
       "      <td>6200</td>\n",
       "      <td>киберспорт</td>\n",
       "      <td>новость</td>\n",
       "      <td>C:\\Users\\User\\Desktop\\Data\\ESforce Holding.json</td>\n",
       "    </tr>\n",
       "    <tr>\n",
       "      <th>4</th>\n",
       "      <td>Компании SuperData Research и PayPal провели с...</td>\n",
       "      <td>Компании SuperData Research и PayPal провели с...</td>\n",
       "      <td>2025-04-11 12:43:00</td>\n",
       "      <td>11</td>\n",
       "      <td>10000</td>\n",
       "      <td>киберспорт</td>\n",
       "      <td>исследование</td>\n",
       "      <td>C:\\Users\\User\\Desktop\\Data\\ESforce Holding.json</td>\n",
       "    </tr>\n",
       "    <tr>\n",
       "      <th>...</th>\n",
       "      <td>...</td>\n",
       "      <td>...</td>\n",
       "      <td>...</td>\n",
       "      <td>...</td>\n",
       "      <td>...</td>\n",
       "      <td>...</td>\n",
       "      <td>...</td>\n",
       "      <td>...</td>\n",
       "    </tr>\n",
       "    <tr>\n",
       "      <th>1107</th>\n",
       "      <td>Привет, Хабр! Представляю вашему вниманию пере...</td>\n",
       "      <td>Привет, Хабр! Представляю вашему вниманию пере...</td>\n",
       "      <td>2025-01-30 10:43:00</td>\n",
       "      <td>32</td>\n",
       "      <td>9300</td>\n",
       "      <td>разработка, технологии</td>\n",
       "      <td>исследование</td>\n",
       "      <td>C:\\Users\\User\\Desktop\\Data\\Федерация креативны...</td>\n",
       "    </tr>\n",
       "    <tr>\n",
       "      <th>1108</th>\n",
       "      <td>Источник\\n«Умный человек не делает все ошибки ...</td>\n",
       "      <td>Источник\\n«Умный человек не делает все ошибки ...</td>\n",
       "      <td>2025-04-24 12:37:00</td>\n",
       "      <td>3</td>\n",
       "      <td>7700</td>\n",
       "      <td>технологии</td>\n",
       "      <td>новость</td>\n",
       "      <td>C:\\Users\\User\\Desktop\\Data\\Федерация креативны...</td>\n",
       "    </tr>\n",
       "    <tr>\n",
       "      <th>1109</th>\n",
       "      <td>Привет, Хабр! Сегодня мы решили поделиться с с...</td>\n",
       "      <td>Привет, Хабр! Сегодня мы решили поделиться с с...</td>\n",
       "      <td>2024-10-12 14:09:00</td>\n",
       "      <td>19</td>\n",
       "      <td>9300</td>\n",
       "      <td>разработка, технологии</td>\n",
       "      <td>новость</td>\n",
       "      <td>C:\\Users\\User\\Desktop\\Data\\Федерация креативны...</td>\n",
       "    </tr>\n",
       "    <tr>\n",
       "      <th>1110</th>\n",
       "      <td>Привет! Меня зовут Никита Бокарев, я креативны...</td>\n",
       "      <td>Привет! Меня зовут Никита Бокарев, я креативны...</td>\n",
       "      <td>2024-09-04 16:44:00</td>\n",
       "      <td>52</td>\n",
       "      <td>52000</td>\n",
       "      <td>киберспорт</td>\n",
       "      <td>новость</td>\n",
       "      <td>C:\\Users\\User\\Desktop\\Data\\Федерация креативны...</td>\n",
       "    </tr>\n",
       "    <tr>\n",
       "      <th>1111</th>\n",
       "      <td>Компетентностая модель — это попытка создания ...</td>\n",
       "      <td>Компетентностая модель — это попытка создания ...</td>\n",
       "      <td>2024-06-05 06:21:00</td>\n",
       "      <td>-5</td>\n",
       "      <td>58000</td>\n",
       "      <td>разработка, технологии</td>\n",
       "      <td>исследование</td>\n",
       "      <td>C:\\Users\\User\\Desktop\\Data\\Федерация креативны...</td>\n",
       "    </tr>\n",
       "  </tbody>\n",
       "</table>\n",
       "<p>1112 rows × 8 columns</p>\n",
       "</div>"
      ],
      "text/plain": [
       "                                                   text  \\\n",
       "0     7 декабря состоялась церемония награждения лау...   \n",
       "1     7 декабря состоялась церемония награждения лау...   \n",
       "2     Из совместного исследования издателя компьютер...   \n",
       "3     По статистике The Esports Observer за I полови...   \n",
       "4     Компании SuperData Research и PayPal провели с...   \n",
       "...                                                 ...   \n",
       "1107  Привет, Хабр! Представляю вашему вниманию пере...   \n",
       "1108  Источник\\n«Умный человек не делает все ошибки ...   \n",
       "1109  Привет, Хабр! Сегодня мы решили поделиться с с...   \n",
       "1110  Привет! Меня зовут Никита Бокарев, я креативны...   \n",
       "1111  Компетентностая модель — это попытка создания ...   \n",
       "\n",
       "                                              full_text                date  \\\n",
       "0     7 декабря состоялась церемония награждения лау... 2024-12-08 09:30:00   \n",
       "1     7 декабря состоялась церемония награждения лау... 2024-12-08 09:30:00   \n",
       "2     Из совместного исследования издателя компьютер... 2024-07-29 13:50:00   \n",
       "3     По статистике The Esports Observer за I полови... 2024-07-09 09:33:00   \n",
       "4     Компании SuperData Research и PayPal провели с... 2025-04-11 12:43:00   \n",
       "...                                                 ...                 ...   \n",
       "1107  Привет, Хабр! Представляю вашему вниманию пере... 2025-01-30 10:43:00   \n",
       "1108  Источник\\n«Умный человек не делает все ошибки ... 2025-04-24 12:37:00   \n",
       "1109  Привет, Хабр! Сегодня мы решили поделиться с с... 2024-10-12 14:09:00   \n",
       "1110  Привет! Меня зовут Никита Бокарев, я креативны... 2024-09-04 16:44:00   \n",
       "1111  Компетентностая модель — это попытка создания ... 2024-06-05 06:21:00   \n",
       "\n",
       "      rating  views                        keywords  content_type  \\\n",
       "0          6   2300  киберспорт, премия, технологии   награждение   \n",
       "1          6   2300  киберспорт, премия, технологии   награждение   \n",
       "2         12   2800                      киберспорт  исследование   \n",
       "3         18   6200                      киберспорт       новость   \n",
       "4         11  10000                      киберспорт  исследование   \n",
       "...      ...    ...                             ...           ...   \n",
       "1107      32   9300          разработка, технологии  исследование   \n",
       "1108       3   7700                      технологии       новость   \n",
       "1109      19   9300          разработка, технологии       новость   \n",
       "1110      52  52000                      киберспорт       новость   \n",
       "1111      -5  58000          разработка, технологии  исследование   \n",
       "\n",
       "                                            source_file  \n",
       "0     C:\\Users\\User\\Desktop\\Data\\Cybersport.Metarati...  \n",
       "1       C:\\Users\\User\\Desktop\\Data\\ESforce Holding.json  \n",
       "2       C:\\Users\\User\\Desktop\\Data\\ESforce Holding.json  \n",
       "3       C:\\Users\\User\\Desktop\\Data\\ESforce Holding.json  \n",
       "4       C:\\Users\\User\\Desktop\\Data\\ESforce Holding.json  \n",
       "...                                                 ...  \n",
       "1107  C:\\Users\\User\\Desktop\\Data\\Федерация креативны...  \n",
       "1108  C:\\Users\\User\\Desktop\\Data\\Федерация креативны...  \n",
       "1109  C:\\Users\\User\\Desktop\\Data\\Федерация креативны...  \n",
       "1110  C:\\Users\\User\\Desktop\\Data\\Федерация креативны...  \n",
       "1111  C:\\Users\\User\\Desktop\\Data\\Федерация креативны...  \n",
       "\n",
       "[1112 rows x 8 columns]"
      ]
     },
     "execution_count": 34,
     "metadata": {},
     "output_type": "execute_result"
    }
   ],
   "source": [
    "articles_df"
   ]
  },
  {
   "cell_type": "markdown",
   "id": "6f05c715",
   "metadata": {},
   "source": [
    "## Вывод результатов\n"
   ]
  },
  {
   "cell_type": "code",
   "execution_count": 13,
   "id": "c89b38b1",
   "metadata": {},
   "outputs": [
    {
     "name": "stdout",
     "output_type": "stream",
     "text": [
      "=== Статистика по статьям ===\n",
      "Средний рейтинг: 23.9\n",
      "Среднее количество просмотров: 21016\n",
      "Медианное количество просмотров: 7000\n"
     ]
    }
   ],
   "source": [
    "print(f\"=== Статистика по статьям ===\")\n",
    "print(f\"Средний рейтинг: {articles_df['rating'].mean():.1f}\")\n",
    "print(f\"Среднее количество просмотров: {articles_df['views'].mean():.0f}\")\n",
    "print(f\"Медианное количество просмотров: {articles_df['views'].median():.0f}\")"
   ]
  },
  {
   "cell_type": "code",
   "execution_count": 38,
   "id": "ee4973fb-d5f8-4ec6-a759-15abb1132201",
   "metadata": {},
   "outputs": [
    {
     "name": "stdout",
     "output_type": "stream",
     "text": [
      "<class 'pandas.core.frame.DataFrame'>\n",
      "RangeIndex: 1112 entries, 0 to 1111\n",
      "Data columns (total 8 columns):\n",
      " #   Column        Non-Null Count  Dtype         \n",
      "---  ------        --------------  -----         \n",
      " 0   text          1112 non-null   object        \n",
      " 1   full_text     1112 non-null   object        \n",
      " 2   date          1111 non-null   datetime64[ns]\n",
      " 3   rating        1112 non-null   int64         \n",
      " 4   views         1112 non-null   int64         \n",
      " 5   keywords      1112 non-null   object        \n",
      " 6   content_type  1112 non-null   object        \n",
      " 7   source_file   1112 non-null   object        \n",
      "dtypes: datetime64[ns](1), int64(2), object(5)\n",
      "memory usage: 69.6+ KB\n"
     ]
    }
   ],
   "source": [
    "articles_df.info()"
   ]
  },
  {
   "cell_type": "markdown",
   "id": "8d71d453-ce3c-4183-8a13-2b509098fd3a",
   "metadata": {},
   "source": [
    "## Сделаем CSV файл из полученных данных"
   ]
  },
  {
   "cell_type": "code",
   "execution_count": 15,
   "id": "124abe49",
   "metadata": {},
   "outputs": [],
   "source": [
    "articles_df.to_csv('jsons_info.csv')"
   ]
  }
 ],
 "metadata": {
  "kernelspec": {
   "display_name": "Python [conda env:base] *",
   "language": "python",
   "name": "conda-base-py"
  },
  "language_info": {
   "codemirror_mode": {
    "name": "ipython",
    "version": 3
   },
   "file_extension": ".py",
   "mimetype": "text/x-python",
   "name": "python",
   "nbconvert_exporter": "python",
   "pygments_lexer": "ipython3",
   "version": "3.12.4"
  }
 },
 "nbformat": 4,
 "nbformat_minor": 5
}
